{
 "cells": [
  {
   "cell_type": "markdown",
   "id": "56999b9e-019d-4985-b06b-eba081a3bbfa",
   "metadata": {},
   "source": [
    "Libraries installation with shell commands"
   ]
  },
  {
   "cell_type": "code",
   "execution_count": 1,
   "id": "6eee8145-5527-462f-896f-cf705d6a60ba",
   "metadata": {},
   "outputs": [
    {
     "name": "stdout",
     "output_type": "stream",
     "text": [
      "Defaulting to user installation because normal site-packages is not writeable\n",
      "Collecting pandas\n",
      "  Downloading pandas-2.2.3-cp310-cp310-manylinux_2_17_x86_64.manylinux2014_x86_64.whl (13.1 MB)\n",
      "\u001b[2K     \u001b[38;2;114;156;31m━━━━━━━━━━━━━━━━━━━━━━━━━━━━━━━━━━━━━━━━\u001b[0m \u001b[32m13.1/13.1 MB\u001b[0m \u001b[31m9.5 MB/s\u001b[0m eta \u001b[36m0:00:00\u001b[0m0m eta \u001b[36m0:00:01\u001b[0m0:01\u001b[0m:01\u001b[0m\n",
      "\u001b[?25hRequirement already satisfied: numpy in /home/arni/.local/lib/python3.10/site-packages (2.1.1)\n",
      "Collecting tzdata>=2022.7\n",
      "  Downloading tzdata-2024.2-py2.py3-none-any.whl (346 kB)\n",
      "\u001b[2K     \u001b[38;2;114;156;31m━━━━━━━━━━━━━━━━━━━━━━━━━━━━━━━━━━━━━━\u001b[0m \u001b[32m346.6/346.6 KB\u001b[0m \u001b[31m22.1 MB/s\u001b[0m eta \u001b[36m0:00:00\u001b[0m\n",
      "\u001b[?25hRequirement already satisfied: python-dateutil>=2.8.2 in /home/arni/.local/lib/python3.10/site-packages (from pandas) (2.9.0.post0)\n",
      "Collecting pytz>=2020.1\n",
      "  Downloading pytz-2024.2-py2.py3-none-any.whl (508 kB)\n",
      "\u001b[2K     \u001b[38;2;114;156;31m━━━━━━━━━━━━━━━━━━━━━━━━━━━━━━━━━━━━━━\u001b[0m \u001b[32m508.0/508.0 KB\u001b[0m \u001b[31m17.7 MB/s\u001b[0m eta \u001b[36m0:00:00\u001b[0m\n",
      "\u001b[?25hRequirement already satisfied: six>=1.5 in /usr/lib/python3/dist-packages (from python-dateutil>=2.8.2->pandas) (1.16.0)\n",
      "Installing collected packages: pytz, tzdata, pandas\n",
      "Successfully installed pandas-2.2.3 pytz-2024.2 tzdata-2024.2\n"
     ]
    }
   ],
   "source": [
    "!pip install pandas numpy"
   ]
  },
  {
   "cell_type": "markdown",
   "id": "52308dea-ea77-471d-a697-d81f3dbcf964",
   "metadata": {},
   "source": [
    "Libraries importation:"
   ]
  },
  {
   "cell_type": "code",
   "execution_count": 2,
   "id": "6a666eca-b51e-43c7-a798-1d08dc22fe2d",
   "metadata": {},
   "outputs": [],
   "source": [
    "import pandas as pd"
   ]
  },
  {
   "cell_type": "markdown",
   "id": "79619670-5b87-4059-b877-218f4df25a7b",
   "metadata": {},
   "source": [
    "CSV File loading"
   ]
  },
  {
   "cell_type": "code",
   "execution_count": 6,
   "id": "a9f76b44-1214-4714-9774-805adb455321",
   "metadata": {},
   "outputs": [
    {
     "name": "stdout",
     "output_type": "stream",
     "text": [
      "Index(['asin', 'title', 'author', 'soldBy', 'imgUrl', 'productURL', 'stars',\n",
      "       'reviews', 'price', 'isKindleUnlimited', 'category_id', 'isBestSeller',\n",
      "       'isEditorsPick', 'isGoodReadsChoice', 'publishedDate', 'category_name'],\n",
      "      dtype='object')\n"
     ]
    }
   ],
   "source": [
    "df = pd.read_csv('data/kindle_data-v2.csv')\n",
    "print(df.columns)"
   ]
  },
  {
   "cell_type": "code",
   "execution_count": 10,
   "id": "bec3fd60-8df0-43ac-a3b9-8052edcd2573",
   "metadata": {},
   "outputs": [
    {
     "name": "stdout",
     "output_type": "stream",
     "text": [
      "0         False\n",
      "1         False\n",
      "2         False\n",
      "3          True\n",
      "4         False\n",
      "          ...  \n",
      "133097    False\n",
      "133098    False\n",
      "133099    False\n",
      "133100    False\n",
      "133101    False\n",
      "Name: isKindleUnlimited, Length: 133102, dtype: bool\n"
     ]
    }
   ],
   "source": [
    "print(df['isKindleUnlimited'])"
   ]
  },
  {
   "cell_type": "code",
   "execution_count": 9,
   "id": "e894b716-1628-451b-8379-3cf8520a7e08",
   "metadata": {},
   "outputs": [
    {
     "name": "stdout",
     "output_type": "stream",
     "text": [
      "Author Counts:\n",
      "soldBy\n",
      "Amazon.com Services LLC                    84759\n",
      "Random House LLC                            5872\n",
      "Hachette Book Group                         4736\n",
      "Penguin Group (USA) LLC                     4385\n",
      "HarperCollins Publishers                    4328\n",
      "Macmillan                                   3147\n",
      "Simon and Schuster Digital Sales Inc        3047\n",
      "Penguin Random House Publisher Services     2390\n",
      "JOHN WILEY AND SONS INC                     2386\n",
      "Simon & Schuster Digital Sales Inc.         1748\n",
      "Pearson Education,Inc.                      1312\n",
      "HarperCollins Publishing                    1132\n",
      "Penguin Random House Grupo Editorial         944\n",
      "Cengage Learning                             750\n",
      "Editorial Planeta, S.A.U.                    605\n",
      "Harlequin Digital Sales Corp.                440\n",
      "PRH UK                                       358\n",
      "Macmillan Higher Education                   212\n",
      "De Marque                                    194\n",
      "Yen Press LLC                                162\n",
      "Disney Book Group                            133\n",
      "W. W. Norton & Company                       120\n",
      "Harper Collins                               114\n",
      "Scholastic Trade Publisher                   102\n",
      "Marvel Entertainment US                       90\n",
      "Games Workshop                                79\n",
      "INTERFORUM                                    48\n",
      "Random House ZA                               45\n",
      "Pottermore                                    39\n",
      "Gallimard Lt.                                 37\n",
      "Flammarion Lt.                                28\n",
      "EDIGITA                                       24\n",
      "Random House NZ                               14\n",
      "Random House India                            13\n",
      "GeMS SpA                                      13\n",
      "Immat&eacute;riel fr                          12\n",
      "Amazon.com                                    12\n",
      "RH AU                                         11\n",
      "Penguin Random House Australia Pty Ltd         9\n",
      "Volumen                                        3\n",
      "Giunti Editore S.p.A.                          3\n",
      "DC Comics                                      3\n",
      "Versilio                                       2\n",
      "Newton Compton                                 2\n",
      "Book Republic                                  2\n",
      "Amazon Digital Services LLC HN                 1\n",
      "Amazon Digital Services LLC GU                 1\n",
      "Amazon Digital Services LLC MK                 1\n",
      "RCS MediaGroup S.p.A.                          1\n",
      "Name: count, dtype: int64\n"
     ]
    }
   ],
   "source": [
    "author_counts = df['soldBy'].value_counts()\n",
    "print(\"Author Counts:\")\n",
    "print(author_counts)\n"
   ]
  },
  {
   "cell_type": "code",
   "execution_count": null,
   "id": "63e0a7e1-7b48-4ff5-a079-69bfe1309696",
   "metadata": {},
   "outputs": [],
   "source": []
  }
 ],
 "metadata": {
  "kernelspec": {
   "display_name": "Python 3 (ipykernel)",
   "language": "python",
   "name": "python3"
  },
  "language_info": {
   "codemirror_mode": {
    "name": "ipython",
    "version": 3
   },
   "file_extension": ".py",
   "mimetype": "text/x-python",
   "name": "python",
   "nbconvert_exporter": "python",
   "pygments_lexer": "ipython3",
   "version": "3.10.12"
  }
 },
 "nbformat": 4,
 "nbformat_minor": 5
}
