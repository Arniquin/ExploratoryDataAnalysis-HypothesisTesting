{
 "cells": [
  {
   "cell_type": "markdown",
   "id": "4c848b50",
   "metadata": {},
   "source": [
    "Exploratory Data Analisys of Books."
   ]
  },
  {
   "cell_type": "markdown",
   "id": "56999b9e-019d-4985-b06b-eba081a3bbfa",
   "metadata": {},
   "source": [
    "Libraries installation with shell commands"
   ]
  },
  {
   "cell_type": "code",
   "execution_count": null,
   "id": "6eee8145-5527-462f-896f-cf705d6a60ba",
   "metadata": {},
   "outputs": [],
   "source": [
    "%pip install pandas numpy"
   ]
  },
  {
   "cell_type": "markdown",
   "id": "52308dea-ea77-471d-a697-d81f3dbcf964",
   "metadata": {},
   "source": [
    "Libraries importation:"
   ]
  },
  {
   "cell_type": "code",
   "execution_count": 2,
   "id": "6a666eca-b51e-43c7-a798-1d08dc22fe2d",
   "metadata": {},
   "outputs": [],
   "source": [
    "import pandas as pd"
   ]
  },
  {
   "cell_type": "markdown",
   "id": "10da4b55",
   "metadata": {},
   "source": [
    "For this Exploratory data Analisys i will be utilizing a kindle ebook dataset obtained from kaggle.\n",
    "This dataset was scraped on October 2023 and it was uploaded by user asaniczka and it can be accesed via the following link: \n",
    "https://www.kaggle.com/datasets/asaniczka/amazon-kindle-books-dataset-2023-130k-books\n",
    "\n",
    "In the following cells we will be showing the shape of the dataset along with the information about it includeing the descriptions of its atributes"
   ]
  },
  {
   "cell_type": "markdown",
   "id": "79619670-5b87-4059-b877-218f4df25a7b",
   "metadata": {},
   "source": [
    "CSV File loading"
   ]
  },
  {
   "cell_type": "code",
   "execution_count": 6,
   "id": "a9f76b44-1214-4714-9774-805adb455321",
   "metadata": {},
   "outputs": [
    {
     "data": {
      "text/plain": [
       "(133102, 16)"
      ]
     },
     "execution_count": 6,
     "metadata": {},
     "output_type": "execute_result"
    }
   ],
   "source": [
    "df = pd.read_csv('data/kindle_data-v2.csv')\n",
    "df.shape\n"
   ]
  },
  {
   "cell_type": "markdown",
   "id": "8aca0cdb",
   "metadata": {},
   "source": [
    "Atributes of the dataset"
   ]
  },
  {
   "cell_type": "markdown",
   "id": "433d311f",
   "metadata": {},
   "source": [
    "Here we can see all the features of this dataset "
   ]
  },
  {
   "cell_type": "code",
   "execution_count": 7,
   "id": "bec3fd60-8df0-43ac-a3b9-8052edcd2573",
   "metadata": {},
   "outputs": [
    {
     "name": "stdout",
     "output_type": "stream",
     "text": [
      "Index(['asin', 'title', 'author', 'soldBy', 'imgUrl', 'productURL', 'stars',\n",
      "       'reviews', 'price', 'isKindleUnlimited', 'category_id', 'isBestSeller',\n",
      "       'isEditorsPick', 'isGoodReadsChoice', 'publishedDate', 'category_name'],\n",
      "      dtype='object')\n"
     ]
    }
   ],
   "source": [
    "print(df.columns)"
   ]
  },
  {
   "cell_type": "markdown",
   "id": "b4817c29",
   "metadata": {},
   "source": [
    "Atributes description (These descriptions where obtained directly from the dataset source):  \n",
    "  \n",
    "asin: Product ID from Amazon.  \n",
    "title: Title of the book.  \n",
    "author: Author(s) of the book.  \n",
    "soldBy: Seller(s) of the book.  \n",
    "imgUrl: URL of the book.  \n",
    "productURL: URL to the publication on wich the ebook is sold.  \n",
    "stars: Average rating of the book. If 0, no ratings were found.  \n",
    "reviews: Number of reviews. If 0, no reviews were found.  \n",
    "price: Price of the book. If 0, price was unavailable.  \n",
    "isKindleUnlimited: Whether the book is available through Kindle Unlimited.  \n",
    "category_id: Serial id assigned to the category this book belong to.  \n",
    "isBestSeller: Whether the book had the Amazon Best Seller status or not.  \n",
    "isEditorsPick: Whether the book had the Editor's Pick status or not.  \n",
    "isGoodReadsChoice: Whether the book had the Goodreads Choice status or not.  \n",
    "publishedDate: Publication date of the book.  \n",
    "category_name: Name of the book category.  "
   ]
  },
  {
   "cell_type": "code",
   "execution_count": 9,
   "id": "e894b716-1628-451b-8379-3cf8520a7e08",
   "metadata": {},
   "outputs": [
    {
     "name": "stdout",
     "output_type": "stream",
     "text": [
      "Author Counts:\n",
      "0         0\n",
      "1         0\n",
      "2         0\n",
      "3         0\n",
      "4         0\n",
      "         ..\n",
      "133097    0\n",
      "133098    0\n",
      "133099    0\n",
      "133100    0\n",
      "133101    0\n",
      "Name: reviews, Length: 133102, dtype: int64\n"
     ]
    }
   ],
   "source": [
    "author_counts = df['reviews']\n",
    "print(\"Author Counts:\")\n",
    "print(author_counts)\n"
   ]
  },
  {
   "cell_type": "code",
   "execution_count": null,
   "id": "63e0a7e1-7b48-4ff5-a079-69bfe1309696",
   "metadata": {},
   "outputs": [],
   "source": []
  }
 ],
 "metadata": {
  "kernelspec": {
   "display_name": "Python 3",
   "language": "python",
   "name": "python3"
  },
  "language_info": {
   "codemirror_mode": {
    "name": "ipython",
    "version": 3
   },
   "file_extension": ".py",
   "mimetype": "text/x-python",
   "name": "python",
   "nbconvert_exporter": "python",
   "pygments_lexer": "ipython3",
   "version": "3.12.5"
  }
 },
 "nbformat": 4,
 "nbformat_minor": 5
}
